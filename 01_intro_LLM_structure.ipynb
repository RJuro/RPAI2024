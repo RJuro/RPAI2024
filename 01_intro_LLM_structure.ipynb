{
  "cells": [
    {
      "cell_type": "markdown",
      "metadata": {},
      "source": [
        "# Tutorial: Extracting Information from Text Using OpenAI's API\n",
        "\n",
        "This tutorial demonstrates how to use OpenAI's API to extract information from a text input. We will go through the steps of setting up the OpenAI client, making requests to the API, and processing the responses. The example involves summarizing a Danish news article and extracting structured information from it.\n",
        "\n",
        "## Installation and Imports\n",
        "First, we need to install the required library and import necessary modules.\n"
      ]
    },
    {
      "cell_type": "code",
      "execution_count": 2,
      "metadata": {
        "id": "rcpyGhv2ZlDK"
      },
      "outputs": [],
      "source": [
        "!pip install openai -q"
      ]
    },
    {
      "cell_type": "code",
      "execution_count": 8,
      "metadata": {
        "id": "WlnZwJIjae5d"
      },
      "outputs": [],
      "source": [
        "# Import required libraries\n",
        "from openai import OpenAI\n",
        "from google.colab import userdata\n",
        "import json\n",
        "from pydantic import BaseModel, Field"
      ]
    },
    {
      "cell_type": "markdown",
      "metadata": {},
      "source": [
        "Setting Up the OpenAI Client\n",
        "\n",
        "We will set up the OpenAI client using a custom API key and base URL."
      ]
    },
    {
      "cell_type": "code",
      "execution_count": 9,
      "metadata": {
        "id": "u20ck6dye0y0"
      },
      "outputs": [],
      "source": [
        "# Setup OpenAI client with custom API key and base URL\n",
        "TOGETHER_API_KEY = userdata.get('TOGETHER_API_KEY')"
      ]
    },
    {
      "cell_type": "markdown",
      "metadata": {},
      "source": [
        "### Summarizing Text\n",
        "\n",
        "We will call the language model to summarize a given Danish text into a single sentence."
      ]
    },
    {
      "cell_type": "code",
      "execution_count": 11,
      "metadata": {
        "id": "djcjO6qMgC4M"
      },
      "outputs": [],
      "source": [
        "# Create client\n",
        "client = OpenAI(\n",
        "    base_url=\"https://api.together.xyz/v1\",\n",
        "    api_key=TOGETHER_API_KEY\n",
        ")"
      ]
    },
    {
      "cell_type": "code",
      "execution_count": 29,
      "metadata": {
        "id": "q7-BSyvJkgAN"
      },
      "outputs": [],
      "source": [
        "text = \"\"\"\n",
        "En nu 16-årig dreng fra Grenaa er blevet idømt otte års fængsel for et knivstikkeri i november sidste år på letbanestationen i Grenaa, hvor en 15-årig dreng mistede livet.\n",
        "Et nævningeting ved Retten i Randers har kendt den 16-årige skyldig i drab efter at have stukket den 15-årige i brystkassen med en dolk.\n",
        "Han er også kendt skyldig i forsøg på grov vold mod en anden dreng, der også var til stede.\n",
        "De to unge havde i længere tid haft nogle uoverensstemmelser, og de mødtes en søndag aften sammen med andre unge på letbanestationen midt i Grenaa.\n",
        "Her tog den 15-årige fat i den 16-årige og gav ham et knytnæveslag i ansigtet. Derefter tog den 16-årige sin dolk frem og stak ham.\n",
        "Knivstikket ramte den 15-årige i hjertet, og han døde kort efter.\n",
        "\"\"\""
      ]
    },
    {
      "cell_type": "code",
      "execution_count": 30,
      "metadata": {
        "id": "e0HW0BFzkbRT"
      },
      "outputs": [],
      "source": [
        "# Call the LLM with the JSON schema\n",
        "chat_completion = client.chat.completions.create(\n",
        "    model=\"mistralai/Mixtral-8x7B-Instruct-v0.1\",\n",
        "    messages=[\n",
        "        {\n",
        "            \"role\": \"system\",\n",
        "            \"content\": \"You are a helpful assistant extracting information from Danish text.\",\n",
        "        },\n",
        "        {\n",
        "            \"role\": \"user\",\n",
        "            \"content\": \"Summarize following in 1 sentence: \" + text ,\n",
        "        },\n",
        "    ],\n",
        ")\n",
        "\n",
        "output = chat_completion.choices[0].message.content"
      ]
    },
    {
      "cell_type": "code",
      "execution_count": null,
      "metadata": {
        "colab": {
          "base_uri": "https://localhost:8080/"
        },
        "id": "pgYC4La8lQzM",
        "outputId": "a341334a-01c0-4bc2-e874-0666c6740000"
      },
      "outputs": [],
      "source": [
        "print(output)"
      ]
    },
    {
      "cell_type": "markdown",
      "metadata": {},
      "source": [
        "## Creating a User Object and extracting structured info\n",
        "We will define a schema for a user and call the API to create a user object based on this schema."
      ]
    },
    {
      "cell_type": "code",
      "execution_count": 32,
      "metadata": {
        "id": "cgOU8LbJgmSm"
      },
      "outputs": [],
      "source": [
        "# Define the schema for the output.\n",
        "class User(BaseModel):\n",
        "    name: str = Field(description=\"user name\")\n",
        "    address: str = Field(description=\"address\")"
      ]
    },
    {
      "cell_type": "code",
      "execution_count": null,
      "metadata": {
        "colab": {
          "base_uri": "https://localhost:8080/"
        },
        "id": "5ArU4MYKe7Fa",
        "outputId": "8d86fe16-3b4a-4845-93e6-0e4d1247c9f4"
      },
      "outputs": [],
      "source": [
        "# Call the LLM with the JSON schema\n",
        "chat_completion = client.chat.completions.create(\n",
        "    model=\"mistralai/Mixtral-8x7B-Instruct-v0.1\",\n",
        "    response_format={\"type\": \"json_object\", \"schema\": User.model_json_schema()},\n",
        "    messages=[\n",
        "        {\n",
        "            \"role\": \"system\",\n",
        "            \"content\": \"You are a helpful assistant that answers in JSON.\",\n",
        "        },\n",
        "        {\n",
        "            \"role\": \"user\",\n",
        "            \"content\": \"Create a user named Alice, who lives in 42, Wonderland Avenue.\",\n",
        "        },\n",
        "    ],\n",
        ")\n",
        "\n",
        "created_user = json.loads(chat_completion.choices[0].message.content)\n",
        "print(json.dumps(created_user, indent=2))"
      ]
    },
    {
      "cell_type": "markdown",
      "metadata": {},
      "source": [
        "## Extracting Case Details\n",
        "We will define a schema for case details and extract relevant information from the given text."
      ]
    },
    {
      "cell_type": "code",
      "execution_count": 34,
      "metadata": {
        "id": "DkrMtaLKf-TA"
      },
      "outputs": [],
      "source": [
        "class CaseDetails(BaseModel):\n",
        "    incident_date: str = Field(description=\"Date of the incident\")\n",
        "    incident_location: str = Field(description=\"Location of the incident\")\n",
        "    incident_description: str = Field(description=\"Description of the incident\")\n",
        "    victim_age: int = Field(description=\"Age of the victim\")\n",
        "    victim_outcome: str = Field(description=\"Outcome for the victim\")\n",
        "    perpetrator_age: int = Field(description=\"Age of the perpetrator\")\n",
        "    perpetrator_sentence: str = Field(description=\"Sentence given to the perpetrator\")\n",
        "    perpetrator_charges: list[str] = Field(description=\"Charges against the perpetrator\")\n",
        "    trial_court: str = Field(description=\"Court where the trial was held\")\n",
        "    trial_verdict: str = Field(description=\"Verdict of the trial\")"
      ]
    },
    {
      "cell_type": "code",
      "execution_count": null,
      "metadata": {
        "colab": {
          "base_uri": "https://localhost:8080/"
        },
        "id": "0GVEwupqmdtT",
        "outputId": "508d298b-f014-448a-fa5e-f268a4ed6390"
      },
      "outputs": [],
      "source": [
        "# Call the LLM with the JSON schema\n",
        "chat_completion = client.chat.completions.create(\n",
        "    model=\"mistralai/Mixtral-8x7B-Instruct-v0.1\",\n",
        "    response_format={\"type\": \"json_object\", \"schema\": CaseDetails.model_json_schema()},\n",
        "    messages=[\n",
        "        {\n",
        "            \"role\": \"system\",\n",
        "            \"content\": \"You are a helpful assistant that answers in JSON.\",\n",
        "        },\n",
        "        {\n",
        "            \"role\": \"user\",\n",
        "            \"content\": \"Extract case informatin form following.: \" + text,\n",
        "        },\n",
        "    ],\n",
        ")\n",
        "\n",
        "created_user = json.loads(chat_completion.choices[0].message.content)\n",
        "print(json.dumps(created_user, indent=2))"
      ]
    }
  ],
  "metadata": {
    "colab": {
      "provenance": []
    },
    "kernelspec": {
      "display_name": "Python 3",
      "name": "python3"
    },
    "language_info": {
      "name": "python"
    }
  },
  "nbformat": 4,
  "nbformat_minor": 0
}
