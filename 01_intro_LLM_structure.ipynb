{
  "cells": [
    {
      "cell_type": "markdown",
      "metadata": {
        "id": "1dJNRhYYFbdL"
      },
      "source": [
        "# Tutorial: Extracting Information from Text Using OpenAI's API\n",
        "\n",
        "This tutorial demonstrates how to use OpenAI's API to extract information from a text input. We will go through the steps of setting up the OpenAI client, making requests to the API, and processing the responses. The example involves summarizing a Danish news article and extracting structured information from it.\n",
        "\n",
        "## Installation and Imports\n",
        "First, we need to install the required library and import necessary modules.\n"
      ]
    },
    {
      "cell_type": "code",
      "execution_count": null,
      "metadata": {
        "colab": {
          "base_uri": "https://localhost:8080/"
        },
        "id": "rcpyGhv2ZlDK",
        "outputId": "eabb0866-c916-490a-eaa1-af721cefd5e3"
      },
      "outputs": [],
      "source": [
        "!pip install openai -q"
      ]
    },
    {
      "cell_type": "code",
      "execution_count": null,
      "metadata": {
        "id": "WlnZwJIjae5d"
      },
      "outputs": [],
      "source": [
        "# Import required libraries\n",
        "from openai import OpenAI\n",
        "from google.colab import userdata\n",
        "import json\n",
        "from pydantic import BaseModel, Field"
      ]
    },
    {
      "cell_type": "markdown",
      "metadata": {
        "id": "IZPPl-oLFbdO"
      },
      "source": [
        "Setting Up the OpenAI Client\n",
        "\n",
        "We will set up the OpenAI client using a custom API key and base URL."
      ]
    },
    {
      "cell_type": "code",
      "execution_count": null,
      "metadata": {
        "id": "u20ck6dye0y0"
      },
      "outputs": [],
      "source": [
        "# Setup OpenAI client with custom API key and base URL\n",
        "TOGETHER_API_KEY = userdata.get('TOGETHER_API_KEY')"
      ]
    },
    {
      "cell_type": "markdown",
      "metadata": {
        "id": "ouGkUJf9FbdP"
      },
      "source": [
        "### Summarizing Text\n",
        "\n",
        "We will call the language model to summarize a given Danish text into a single sentence."
      ]
    },
    {
      "cell_type": "code",
      "execution_count": null,
      "metadata": {
        "id": "djcjO6qMgC4M"
      },
      "outputs": [],
      "source": [
        "# Create client\n",
        "client = OpenAI(\n",
        "    base_url=\"https://api.together.xyz/v1\",\n",
        "    api_key=TOGETHER_API_KEY\n",
        ")"
      ]
    },
    {
      "cell_type": "code",
      "execution_count": null,
      "metadata": {
        "id": "q7-BSyvJkgAN"
      },
      "outputs": [],
      "source": [
        "text = \"\"\"\n",
        "En nu 16-årig dreng fra Grenaa er blevet idømt otte års fængsel for et knivstikkeri i november sidste år på letbanestationen i Grenaa, hvor en 15-årig dreng mistede livet.\n",
        "Et nævningeting ved Retten i Randers har kendt den 16-årige skyldig i drab efter at have stukket den 15-årige i brystkassen med en dolk.\n",
        "Han er også kendt skyldig i forsøg på grov vold mod en anden dreng, der også var til stede.\n",
        "De to unge havde i længere tid haft nogle uoverensstemmelser, og de mødtes en søndag aften sammen med andre unge på letbanestationen midt i Grenaa.\n",
        "Her tog den 15-årige fat i den 16-årige og gav ham et knytnæveslag i ansigtet. Derefter tog den 16-årige sin dolk frem og stak ham.\n",
        "Knivstikket ramte den 15-årige i hjertet, og han døde kort efter.\n",
        "\"\"\""
      ]
    },
    {
      "cell_type": "code",
      "execution_count": null,
      "metadata": {
        "id": "e0HW0BFzkbRT"
      },
      "outputs": [],
      "source": [
        "# Call the LLM with the JSON schema\n",
        "chat_completion = client.chat.completions.create(\n",
        "    #model=\"mistralai/Mixtral-8x7B-Instruct-v0.1\",\n",
        "    model=\"meta-llama/Llama-3-70b-chat-hf\",\n",
        "\n",
        "    messages=[\n",
        "        {\n",
        "            \"role\": \"system\",\n",
        "            \"content\": \"Du er en hjælpsom assistent, der udtrækker information fra dansk tekst. Svar på dansk\",\n",
        "        },\n",
        "        {\n",
        "            \"role\": \"user\",\n",
        "            \"content\": \"Opsumer følgende til 1 kort sætning: \" + text ,\n",
        "        },\n",
        "    ],\n",
        ")\n",
        "\n",
        "output = chat_completion.choices[0].message.content"
      ]
    },
    {
      "cell_type": "code",
      "execution_count": null,
      "metadata": {
        "colab": {
          "base_uri": "https://localhost:8080/"
        },
        "id": "pgYC4La8lQzM",
        "outputId": "170dc1ff-df4d-4ae9-8742-b51512831475"
      },
      "outputs": [],
      "source": [
        "print(output)"
      ]
    },
    {
      "cell_type": "markdown",
      "metadata": {
        "id": "t5eIFq19FbdQ"
      },
      "source": [
        "## Creating a User Object and extracting structured info\n",
        "We will define a schema for a user and call the API to create a user object based on this schema."
      ]
    },
    {
      "cell_type": "code",
      "execution_count": null,
      "metadata": {
        "id": "cgOU8LbJgmSm"
      },
      "outputs": [],
      "source": [
        "# Define the schema for the output.\n",
        "class User(BaseModel):\n",
        "    name: str = Field(description=\"user name\")\n",
        "    address: str = Field(description=\"address\")"
      ]
    },
    {
      "cell_type": "code",
      "execution_count": null,
      "metadata": {
        "colab": {
          "base_uri": "https://localhost:8080/"
        },
        "id": "5ArU4MYKe7Fa",
        "outputId": "3cc3de36-4d5c-4033-e2fc-d3b78d33fbe3"
      },
      "outputs": [],
      "source": [
        "# Call the LLM with the JSON schema\n",
        "chat_completion = client.chat.completions.create(\n",
        "    model=\"mistralai/Mixtral-8x7B-Instruct-v0.1\",\n",
        "    response_format={\"type\": \"json_object\", \"schema\": User.model_json_schema()},\n",
        "    messages=[\n",
        "        {\n",
        "            \"role\": \"system\",\n",
        "            \"content\": \"You are a helpful assistant that answers in JSON.\",\n",
        "        },\n",
        "        {\n",
        "            \"role\": \"user\",\n",
        "            \"content\": \"Create a user named Alice, who lives in 42, Wonderland Avenue.\",\n",
        "        },\n",
        "    ],\n",
        ")\n",
        "\n",
        "created_user = json.loads(chat_completion.choices[0].message.content)\n",
        "print(json.dumps(created_user, indent=2))"
      ]
    },
    {
      "cell_type": "markdown",
      "metadata": {
        "id": "iTYaZAJNFbdQ"
      },
      "source": [
        "## Extracting Case Details\n",
        "We will define a schema for case details and extract relevant information from the given text."
      ]
    },
    {
      "cell_type": "code",
      "execution_count": null,
      "metadata": {
        "id": "DkrMtaLKf-TA"
      },
      "outputs": [],
      "source": [
        "class CaseDetails(BaseModel):\n",
        "    incident_date: str = Field(description=\"Date of the incident\")\n",
        "    incident_location: str = Field(description=\"Location of the incident\")\n",
        "    incident_description: str = Field(description=\"Description of the incident\")\n",
        "    victim_age: int = Field(description=\"Age of the victim\")\n",
        "    victim_outcome: str = Field(description=\"Outcome for the victim\")\n",
        "    perpetrator_age: int = Field(description=\"Age of the perpetrator\")\n",
        "    perpetrator_sentence: str = Field(description=\"Sentence given to the perpetrator\")\n",
        "    perpetrator_charges: list[str] = Field(description=\"Charges against the perpetrator\")\n",
        "    trial_court: str = Field(description=\"Court where the trial was held\")\n",
        "    trial_verdict: str = Field(description=\"Verdict of the trial\")"
      ]
    },
    {
      "cell_type": "code",
      "execution_count": null,
      "metadata": {
        "colab": {
          "base_uri": "https://localhost:8080/"
        },
        "id": "0GVEwupqmdtT",
        "outputId": "26db1dc8-c023-4a22-da71-63f9bbc83301"
      },
      "outputs": [],
      "source": [
        "# Call the LLM with the JSON schema\n",
        "chat_completion = client.chat.completions.create(\n",
        "    model=\"mistralai/Mixtral-8x7B-Instruct-v0.1\",\n",
        "    response_format={\"type\": \"json_object\", \"schema\": CaseDetails.model_json_schema()},\n",
        "    messages=[\n",
        "        {\n",
        "            \"role\": \"system\",\n",
        "            \"content\": \"You are a helpful assistant that answers in JSON.\",\n",
        "        },\n",
        "        {\n",
        "            \"role\": \"user\",\n",
        "            \"content\": \"Extract case informatin form following.: \" + text,\n",
        "        },\n",
        "    ],\n",
        ")\n",
        "\n",
        "created_user = json.loads(chat_completion.choices[0].message.content)\n",
        "print(json.dumps(created_user, indent=2))"
      ]
    },
    {
      "cell_type": "code",
      "execution_count": null,
      "metadata": {
        "id": "f_R_V2ExMu-l"
      },
      "outputs": [],
      "source": [
        "json_schema = \"\"\"{\n",
        "  \"properties\": {\n",
        "    \"incident_date\": {\n",
        "      \"description\": \"Dato for hændelsen\",\n",
        "      \"title\": \"Hændelsesdato\",\n",
        "      \"type\": \"string\"\n",
        "    },\n",
        "    \"incident_location\": {\n",
        "      \"description\": \"Sted for hændelsen\",\n",
        "      \"title\": \"Hændelsessted\",\n",
        "      \"type\": \"string\"\n",
        "    },\n",
        "    \"incident_description\": {\n",
        "      \"description\": \"Beskrivelse af hændelsen\",\n",
        "      \"title\": \"Hændelsesbeskrivelse\",\n",
        "      \"type\": \"string\"\n",
        "    },\n",
        "    \"victim_age\": {\n",
        "      \"description\": \"Offerets alder\",\n",
        "      \"title\": \"Offerets alder\",\n",
        "      \"type\": \"integer\"\n",
        "    },\n",
        "    \"victim_outcome\": {\n",
        "      \"description\": \"Resultat for offeret\",\n",
        "      \"title\": \"Offerets resultat\",\n",
        "      \"type\": \"string\"\n",
        "    },\n",
        "    \"perpetrator_age\": {\n",
        "      \"description\": \"Gerningsmandens alder\",\n",
        "      \"title\": \"Gerningsmandens alder\",\n",
        "      \"type\": \"integer\"\n",
        "    },\n",
        "    \"perpetrator_sentence\": {\n",
        "      \"description\": \"Straf tildelt gerningsmanden\",\n",
        "      \"title\": \"Gerningsmandens straf\",\n",
        "      \"type\": \"string\"\n",
        "    },\n",
        "    \"perpetrator_charges\": {\n",
        "      \"description\": \"Anklager mod gerningsmanden\",\n",
        "      \"items\": {\n",
        "        \"type\": \"string\"\n",
        "      },\n",
        "      \"title\": \"Gerningsmandens anklager\",\n",
        "      \"type\": \"array\"\n",
        "    },\n",
        "    \"trial_court\": {\n",
        "      \"description\": \"Retten hvor retssagen blev afholdt\",\n",
        "      \"title\": \"Retssal\",\n",
        "      \"type\": \"string\"\n",
        "    },\n",
        "    \"trial_verdict\": {\n",
        "      \"description\": \"Dom i retssagen\",\n",
        "      \"title\": \"Retssagens dom\",\n",
        "      \"type\": \"string\"\n",
        "    }\n",
        "  },\n",
        "  \"required\": [\n",
        "    \"incident_date\",\n",
        "    \"incident_location\",\n",
        "    \"incident_description\",\n",
        "    \"victim_age\",\n",
        "    \"victim_outcome\",\n",
        "    \"perpetrator_age\",\n",
        "    \"perpetrator_sentence\",\n",
        "    \"perpetrator_charges\",\n",
        "    \"trial_court\",\n",
        "    \"trial_verdict\"\n",
        "  ],\n",
        "  \"title\": \"Sagsdetaljer\",\n",
        "  \"type\": \"object\"\n",
        "}\"\"\""
      ]
    },
    {
      "cell_type": "code",
      "execution_count": null,
      "metadata": {
        "id": "F1uOkLnJMRrm"
      },
      "outputs": [],
      "source": [
        "# Call the LLM with the JSON schema\n",
        "chat_completion = client.chat.completions.create(\n",
        "    model=\"meta-llama/Llama-3-70b-chat-hf\",\n",
        "    #response_format={\"type\": \"json_object\", \"schema\": CaseDetails.model_json_schema()},\n",
        "    messages=[\n",
        "        {\n",
        "            \"role\": \"system\",\n",
        "            \"content\": \"Du er en hjælpsom assistent, der udtrækker information fra dansk tekst som JSON. Kun JSON. Ingen forklaringer. Ingen ekstra info!!!\",\n",
        "        },\n",
        "        {\n",
        "            \"role\": \"user\",\n",
        "            \"content\": \"udtræk fra følgende tekst.: \" + text + \"Brug følgende JSON schema: \" + json_schema,\n",
        "        },\n",
        "    ],\n",
        ")\n",
        "\n"
      ]
    },
    {
      "cell_type": "code",
      "execution_count": null,
      "metadata": {
        "colab": {
          "base_uri": "https://localhost:8080/"
        },
        "id": "RoV9V-BgNNXd",
        "outputId": "df6ed253-a88a-499c-9040-8a59b1ebfa35"
      },
      "outputs": [],
      "source": [
        "created_user = json.loads(chat_completion.choices[0].message.content)\n",
        "print(json.dumps(created_user, ensure_ascii=False, indent=2))\n"
      ]
    },
    {
      "cell_type": "code",
      "execution_count": null,
      "metadata": {
        "id": "-HZJ1qe3NQfa"
      },
      "outputs": [],
      "source": [
        "text_2 = \"\"\"\n",
        "\n",
        "En 22-årig mand fra Aalborg er blevet idømt tre års fængsel for narkotikahandel og besiddelse af ulovlige våben.\n",
        "\n",
        "Et nævningeting ved Retten i Aalborg har kendt den 22-årige skyldig i at have solgt betydelige mængder kokain og ecstasy i Aalborg-området. Han er også kendt skyldig i besiddelse af en ulovlig pistol og en større mængde ammunition, som blev fundet under en ransagning af hans lejlighed.\n",
        "\n",
        "Den 22-årige blev arresteret i december sidste år efter en længere efterforskning, hvor politiet havde overvåget hans aktiviteter. Retsagen afslørede, at han havde været involveret i narkotikahandel i mindst to år og havde etableret et stort netværk af kunder.\n",
        "\n",
        "Under ransagningen fandt politiet også et større kontantbeløb, som menes at stamme fra salget af de ulovlige stoffer. Den 22-årige nægtede sig skyldig, men beviserne mod ham var overvældende, og han blev dømt på alle punkter.\n",
        "\"\"\""
      ]
    },
    {
      "cell_type": "code",
      "execution_count": null,
      "metadata": {
        "id": "S6Q98dbCRUSq"
      },
      "outputs": [],
      "source": [
        "# Call the LLM with the JSON schema\n",
        "chat_completion = client.chat.completions.create(\n",
        "    model=\"meta-llama/Llama-3-8b-chat-hf\",\n",
        "    #response_format={\"type\": \"json_object\", \"schema\": CaseDetails.model_json_schema()},\n",
        "    messages=[\n",
        "        {\n",
        "            \"role\": \"system\",\n",
        "            \"content\": \"Du er en hjælpsom assistent, der udtrækker information fra dansk tekst som JSON. Kun JSON. Ingen forklaringer. Ingen ekstra info!!!\",\n",
        "        },\n",
        "        {\n",
        "            \"role\": \"user\",\n",
        "            \"content\": \"udtræk fra følgende tekst.: \" + text + \"Brug følgende JSON schema: \" + json_schema,\n",
        "        },\n",
        "                {\n",
        "            \"role\": \"assistant\",\n",
        "            \"content\": \"\"\"{\n",
        "  \"properties\": {\n",
        "    \"incident_date\": \"01-11-2023\",\n",
        "    \"incident_location\": \"Letbanestationen i Grenaa\",\n",
        "    \"incident_description\": \"Knivstikkeri\",\n",
        "    \"victim_age\": 15,\n",
        "    \"victim_outcome\": \"Mistede livet\",\n",
        "    \"perpetrator_age\": 16,\n",
        "    \"perpetrator_sentence\": \"Otte års fængsel\",\n",
        "    \"perpetrator_charges\": [\n",
        "      \"Drab\",\n",
        "      \"Forsøg på grov vold\"\n",
        "    ],\n",
        "    \"trial_court\": \"Retten i Randers\",\n",
        "    \"trial_verdict\": \"Skyldig\"\n",
        "  }\n",
        "}\"\"\",\n",
        "        },\n",
        "                {\n",
        "            \"role\": \"user\",\n",
        "            \"content\": \"udtræk fra følgende tekst.: \" + text_2 + \"Brug følgende JSON schema: \" + json_schema,\n",
        "        },\n",
        "    ],\n",
        ")\n",
        "\n"
      ]
    },
    {
      "cell_type": "code",
      "execution_count": null,
      "metadata": {
        "colab": {
          "base_uri": "https://localhost:8080/",
          "height": 125
        },
        "id": "JEmnij75VQpG",
        "outputId": "ead74e28-b553-48d0-9f2f-61a4c05de9fc"
      },
      "outputs": [],
      "source": [
        "chat_completion.choices[0].message.content"
      ]
    },
    {
      "cell_type": "code",
      "execution_count": null,
      "metadata": {
        "colab": {
          "base_uri": "https://localhost:8080/"
        },
        "id": "NJQcZUj9SYgI",
        "outputId": "f003c84f-ec4c-47c3-b761-a8e891bcdea9"
      },
      "outputs": [],
      "source": [
        "created_user = json.loads(chat_completion.choices[0].message.content)\n",
        "print(json.dumps(created_user, ensure_ascii=False, indent=2))\n"
      ]
    }
  ],
  "metadata": {
    "colab": {
      "provenance": []
    },
    "kernelspec": {
      "display_name": "Python 3",
      "name": "python3"
    },
    "language_info": {
      "name": "python"
    }
  },
  "nbformat": 4,
  "nbformat_minor": 0
}
