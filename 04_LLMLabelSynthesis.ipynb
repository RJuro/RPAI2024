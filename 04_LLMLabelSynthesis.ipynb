{
  "cells": [
    {
      "cell_type": "markdown",
      "metadata": {
        "id": "ci42Y1fpcLRs"
      },
      "source": [
        "# Let's create LLM - training-data\n",
        "\n",
        "In this tutorial we will be crating data for LLM instruction - tuning. What we want is to teach a 7B parameter LLM (Mistral 7B) to extract structured information from patent titles/abstracts and also perform some \"higher-level\" evaluation."
      ]
    },
    {
      "cell_type": "code",
      "execution_count": null,
      "metadata": {
        "id": "y3vLVi7Tm553"
      },
      "outputs": [],
      "source": [
        "# Install necessary packages\n",
        "!pip install openai datasets -qqq"
      ]
    },
    {
      "cell_type": "code",
      "execution_count": null,
      "metadata": {
        "id": "gBzKZDPxvcfJ"
      },
      "outputs": [],
      "source": [
        "# Import required libraries\n",
        "from openai import OpenAI\n",
        "from datasets import load_dataset\n",
        "from google.colab import userdata\n",
        "import json"
      ]
    },
    {
      "cell_type": "code",
      "execution_count": null,
      "metadata": {
        "id": "IklSRUVdvfi-"
      },
      "outputs": [],
      "source": [
        "# Setup OpenAI client with custom API key and base URL\n",
        "TOGETHER_API_KEY = userdata.get('TOGETHER_API_KEY')\n",
        "client = OpenAI(base_url=\"https://api.together.xyz/v1\", api_key=TOGETHER_API_KEY)"
      ]
    },
    {
      "cell_type": "code",
      "execution_count": null,
      "metadata": {
        "id": "18ID3fvRvh_1"
      },
      "outputs": [],
      "source": [
        "# Load dataset and prepare data\n",
        "dataset = load_dataset(\"RJuro/neuro_patents\")['train']\n",
        "titles = dataset[\"appln_title\"]\n",
        "abstracts = dataset[\"appln_abstract\"]\n",
        "titles_abstracts = [f\"{title}\\n{abstract}\" for title, abstract in zip(titles, abstracts)]\n",
        "dataset = dataset.add_column(\"input\", titles_abstracts)\n",
        "\n",
        "# Select a random sample from the dataset\n",
        "dataset_sample = dataset.shuffle(seed=42).select(range(200))"
      ]
    },
    {
      "cell_type": "code",
      "source": [
        "# Select a random sample from the dataset (small for demo)\n",
        "# dataset_sample = dataset.shuffle(seed=42).select(range(10))"
      ],
      "metadata": {
        "id": "ul_DuTwXdhya"
      },
      "execution_count": null,
      "outputs": []
    },
    {
      "cell_type": "code",
      "execution_count": null,
      "metadata": {
        "id": "hhM3tkMlvsGM"
      },
      "outputs": [],
      "source": [
        "# Define system prompt and instructions for JSON extraction\n",
        "\n",
        "system_prompt = \"You are a highly skilled data analyst tasked with extracting and summarizing key details from patent descriptions into a JSON format.\"\n",
        "\n",
        "patent_instruct_prompt = \"\"\"Given a text fragment describing a patent, including its title,\n",
        "and abstract, analyze the text and extract relevant information\n",
        "to fill out a JSON template. The JSON should provide a concise summary of the patent,\n",
        "focusing on its main label, application (purpose and use cases), direct use on people (how it's applied in relation to humans),\n",
        "input description (key components or methodologies), risk description (potential risks or side effects unless None obvious),\n",
        "and risk level (overall assessment of potential harm). Use the following scale for risk level: None, Low, Moderate, High.\n",
        "\n",
        "Please ensure to:\n",
        "\n",
        "Clearly distinguish between direct and indirect uses of the patent on humans.\n",
        "Provide specific examples or descriptions of inputs when mentioned in the text.\n",
        "Outline any mentioned risks, including how they might impact users or society.\n",
        "Assess the risk level based on the information provided, using the predefined scale.\n",
        "\n",
        "Here is the the text fragment:\"\"\"\n",
        "\n",
        "json_template = \"\"\"\n",
        "Here's the JSON template you should follow:\n",
        "\n",
        "{\n",
        "  \"label\": \"Short, descriptive title of the invention\",\n",
        "  \"application\": \"Brief description of what the invention is used for\",\n",
        "  \"direct_use\": \"Direct/Indirect/Tool/Machine\",\n",
        "  \"input_description\": \"Description of inputs or components, if applicable. Use 'None' or 'Not Applicable' for patents where this doesn't apply.\",\n",
        "  \"risk_description\": \"Outline of potential risks or side effects. If no risks are present, indicate 'None' and provide a brief explanation.\",\n",
        "  \"risk_level\": \"Low/Moderate/High/None. Use 'None' for patents with no identifiable risks.\"\n",
        "}\n",
        "\n",
        "Output JSON only.\n",
        "\"\"\""
      ]
    },
    {
      "cell_type": "code",
      "execution_count": null,
      "metadata": {
        "id": "v1i2yYypvazA"
      },
      "outputs": [],
      "source": [
        "\n",
        "# Function to extract JSON from a given patent description\n",
        "def extract_json(input):\n",
        "    PROMPT = f\"{patent_instruct_prompt} {input['input']} {json_template}\"\n",
        "    completion = client.chat.completions.create(\n",
        "        model=\"NousResearch/Nous-Hermes-2-Mixtral-8x7B-DPO\",\n",
        "        messages=[\n",
        "            {\"role\": \"system\", \"content\": system_prompt},\n",
        "            {\"role\": \"user\", \"content\": PROMPT}\n",
        "        ],\n",
        "        temperature=0.2,\n",
        "    )\n",
        "    try:\n",
        "      out = json.loads(completion.choices[0].message.content)\n",
        "      return {'completion': completion.choices[0].message.content}\n",
        "    except json.JSONDecodeError:\n",
        "        return {'completion': None}\n"
      ]
    },
    {
      "cell_type": "code",
      "execution_count": null,
      "metadata": {
        "id": "PCpei0KNwOkv"
      },
      "outputs": [],
      "source": [
        "# Apply the extraction function to the dataset sample\n",
        "dataset_sample = dataset_sample.map(extract_json)"
      ]
    },
    {
      "cell_type": "code",
      "execution_count": null,
      "metadata": {
        "id": "AdhbrqmN4QVR"
      },
      "outputs": [],
      "source": [
        "dataset_sample_filter = dataset_sample.filter(lambda x: x['completion'] is not None)"
      ]
    },
    {
      "cell_type": "code",
      "execution_count": null,
      "metadata": {
        "id": "U3e1zwll4UIL"
      },
      "outputs": [],
      "source": [
        "dataset_sample_filter"
      ]
    },
    {
      "cell_type": "code",
      "execution_count": null,
      "metadata": {
        "id": "7gvDlscs3kb2"
      },
      "outputs": [],
      "source": [
        "dataset_sample_filter.push_to_hub(\"RJuro/neuro_patents_sample_finetune_2\")"
      ]
    },
    {
      "cell_type": "markdown",
      "source": [
        "### Let's check performance"
      ],
      "metadata": {
        "id": "9XXbb09Ee2Fb"
      }
    },
    {
      "cell_type": "code",
      "source": [
        "import json"
      ],
      "metadata": {
        "id": "2aUTtl9EeAN7"
      },
      "execution_count": null,
      "outputs": []
    },
    {
      "cell_type": "code",
      "source": [
        "dataset_sample_filter['input'][0]"
      ],
      "metadata": {
        "id": "gxtDm5BReF4J"
      },
      "execution_count": null,
      "outputs": []
    },
    {
      "cell_type": "code",
      "source": [
        "json.loads(dataset_sample_filter['completion'][0])"
      ],
      "metadata": {
        "id": "1PjmYxwaeBon"
      },
      "execution_count": null,
      "outputs": []
    }
  ],
  "metadata": {
    "colab": {
      "provenance": []
    },
    "kernelspec": {
      "display_name": "Python 3",
      "name": "python3"
    },
    "language_info": {
      "name": "python"
    }
  },
  "nbformat": 4,
  "nbformat_minor": 0
}