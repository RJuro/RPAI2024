{
  "cells": [
    {
      "cell_type": "markdown",
      "metadata": {
        "id": "view-in-github"
      },
      "source": [
        "<a href=\"https://colab.research.google.com/github/aaubs/ds-master/blob/main/courses/ds4b-m1-1-intro/notebooks/s1-data.ipynb\" target=\"_parent\"><img src=\"https://colab.research.google.com/assets/colab-badge.svg\" alt=\"Open In Colab\"/></a>"
      ]
    },
    {
      "cell_type": "markdown",
      "metadata": {
        "id": "KtbkJ9BibahG"
      },
      "source": [
        "# Preface\n",
        "\n",
        "## Why Python?\n",
        "1. General purpose language - add what you need\n",
        "2. Portable (Linux, Windows, Mac)\n",
        "3. Interactive\n",
        "4. Free\n",
        "5. Community and eco-system\n",
        "6. Easy to use\n",
        "\n",
        "## Working with Python\n",
        "Workflows - many - find your own! In this course - Jupyter notebook and Pandas:\n",
        "* Python + Jupyter notebook + Pandas = A complete environment\n",
        "* Interactive\n",
        "* Encourage an iterative work process (research?)\n",
        "* Documentation, code and visualization in one - literate programming\n",
        "* Reproducing results and figures"
      ]
    },
    {
      "cell_type": "markdown",
      "metadata": {
        "id": "kvEzWWOdfD3L"
      },
      "source": [
        "# Introduction\n",
        "\n",
        "In this session, you will learn the basic Python syntax for data manipulation & analysis, including:\n",
        "\n",
        "1. General syntax\n",
        "2. basic operations\n",
        "3. Object & data types\n",
        "4. Flow controls\n",
        "\n",
        "\n"
      ]
    },
    {
      "cell_type": "code",
      "execution_count": null,
      "metadata": {
        "id": "1IFxzzzd-hRl"
      },
      "outputs": [],
      "source": [
        "import numpy as np # Basic library for all kind of numerical operations\n",
        "import pandas as pd # Basic library for data manipulation in dataframes"
      ]
    },
    {
      "cell_type": "markdown",
      "metadata": {
        "id": "f_alePJD__y2"
      },
      "source": [
        "# Basics"
      ]
    },
    {
      "cell_type": "markdown",
      "metadata": {
        "id": "lQn7xy7NcN_X"
      },
      "source": [
        "## The very basics"
      ]
    },
    {
      "cell_type": "code",
      "execution_count": null,
      "metadata": {
        "id": "7kIK1Mvmc1c8"
      },
      "outputs": [],
      "source": [
        "# Running a cell (Ctrl-Enter, Shift-Enter)\n",
        "print('Hello world')"
      ]
    },
    {
      "cell_type": "markdown",
      "metadata": {
        "id": "2RSD1OrvgrX7"
      },
      "source": [
        "## Variables"
      ]
    },
    {
      "cell_type": "code",
      "execution_count": null,
      "metadata": {
        "id": "ArYdCkfFgowf"
      },
      "outputs": [],
      "source": [
        "i = 6\n",
        "print(i, type(i))"
      ]
    },
    {
      "cell_type": "code",
      "execution_count": null,
      "metadata": {
        "id": "vhpLs-tcgtgo"
      },
      "outputs": [],
      "source": [
        "x = 3.2\n",
        "print(x, type(x))"
      ]
    },
    {
      "cell_type": "code",
      "execution_count": null,
      "metadata": {
        "id": "NN6XM_vogtua"
      },
      "outputs": [],
      "source": [
        "s = 'Hello'\n",
        "print(s, type(s))"
      ]
    },
    {
      "cell_type": "markdown",
      "metadata": {
        "id": "SA_-aL_zADsC"
      },
      "source": [
        "## Value assignment & evaluation"
      ]
    },
    {
      "cell_type": "code",
      "execution_count": null,
      "metadata": {
        "id": "0-t9pGVUAKjU"
      },
      "outputs": [],
      "source": [
        "x = 3         # Assignment\n",
        "print('We asigned x the value of ', x)              # Evaluate the expression and print result"
      ]
    },
    {
      "cell_type": "code",
      "execution_count": null,
      "metadata": {
        "id": "pu7VxewCAYHg"
      },
      "outputs": [],
      "source": [
        "y = 4         # Assignment\n",
        "y + 5         # Evaluation, y remains 4"
      ]
    },
    {
      "cell_type": "code",
      "execution_count": null,
      "metadata": {
        "id": "TCMZxZIHAf66"
      },
      "outputs": [],
      "source": [
        "z = x + 17*y  # Assignment\n",
        "z             # Evaluation"
      ]
    },
    {
      "cell_type": "code",
      "execution_count": null,
      "metadata": {
        "id": "PrD_6a2QbNdb"
      },
      "outputs": [],
      "source": [
        "a=2"
      ]
    },
    {
      "cell_type": "code",
      "execution_count": null,
      "metadata": {
        "id": "VTOQsI726_3t"
      },
      "outputs": [],
      "source": [
        "# basic mathematical operations\n",
        "print(x+y, x*y, x-y, x/y, a**2, x+y**2, (x+y)**2)"
      ]
    },
    {
      "cell_type": "markdown",
      "metadata": {
        "id": "VGcSo_VAA0qZ"
      },
      "source": [
        "## Value comparison\n",
        "\n",
        "Comparisons return boolean values: True or False"
      ]
    },
    {
      "cell_type": "code",
      "execution_count": null,
      "metadata": {
        "id": "d3Yl4nGYA3wB"
      },
      "outputs": [],
      "source": [
        "2==2  # Equality"
      ]
    },
    {
      "cell_type": "code",
      "execution_count": null,
      "metadata": {
        "id": "1qJE0LBoBPX1"
      },
      "outputs": [],
      "source": [
        "2!=2  # Inequality"
      ]
    },
    {
      "cell_type": "code",
      "execution_count": null,
      "metadata": {
        "id": "3wi-1BnuBSPa"
      },
      "outputs": [],
      "source": [
        "x <= y # less than or equal: \"<\", \">\", and \">=\" also work"
      ]
    },
    {
      "cell_type": "code",
      "execution_count": null,
      "metadata": {
        "id": "P89TgvrPBWxe"
      },
      "outputs": [],
      "source": [
        "(x | z) >= y"
      ]
    },
    {
      "cell_type": "code",
      "execution_count": null,
      "metadata": {
        "id": "vMqgnfb6BjpJ"
      },
      "outputs": [],
      "source": [
        "(x & z) >= y"
      ]
    },
    {
      "cell_type": "code",
      "execution_count": null,
      "metadata": {
        "id": "vuN5mzJF7jwI"
      },
      "outputs": [],
      "source": [
        "x + z / 50 < y"
      ]
    },
    {
      "cell_type": "markdown",
      "metadata": {
        "id": "xhOIe6OBFRGq"
      },
      "source": [
        "## Special Constraints, NA, NaN, Inf"
      ]
    },
    {
      "cell_type": "code",
      "execution_count": null,
      "metadata": {
        "id": "GXqrpWifFYHE"
      },
      "outputs": [],
      "source": [
        "print([1, None, 3])"
      ]
    },
    {
      "cell_type": "markdown",
      "metadata": {
        "id": "0rI1htgCdFeE"
      },
      "source": [
        "## Importing\n",
        "We need to import libraries or only parts of libraries all the time. Use name-conventions when doing so"
      ]
    },
    {
      "cell_type": "code",
      "execution_count": null,
      "metadata": {
        "id": "pUb54cSJdYSN"
      },
      "outputs": [],
      "source": [
        "from math import sqrt"
      ]
    },
    {
      "cell_type": "code",
      "execution_count": null,
      "metadata": {
        "id": "ACaBX2SxdZ0G"
      },
      "outputs": [],
      "source": [
        "a = 2\n",
        "b = 3\n",
        "\n",
        "c = sqrt(a**2 + b**2)\n",
        "print(c)"
      ]
    },
    {
      "cell_type": "markdown",
      "metadata": {
        "id": "sH8DDa-nd69x"
      },
      "source": [
        "## Functions\n",
        "* Define a function\n",
        "* Function name: pythagoras\n",
        "* Arguments: a, b\n",
        "* Indentation using tab (4 spaces) for the whole function\n",
        "* `return` statement"
      ]
    },
    {
      "cell_type": "code",
      "execution_count": null,
      "metadata": {
        "id": "OD4U4QzEeD3k"
      },
      "outputs": [],
      "source": [
        "#@title\n",
        "def pythagoras(a, b):\n",
        "    return sqrt(a**2 + b**2) # Notice the tab!"
      ]
    },
    {
      "cell_type": "code",
      "execution_count": null,
      "metadata": {
        "id": "eAD1TqLWeNez"
      },
      "outputs": [],
      "source": [
        "#@title\n",
        "print(pythagoras)"
      ]
    },
    {
      "cell_type": "code",
      "execution_count": null,
      "metadata": {
        "id": "b2swzQj8eRfz"
      },
      "outputs": [],
      "source": [
        "#@title\n",
        "c = pythagoras(a, b)\n",
        "print(c)"
      ]
    },
    {
      "cell_type": "code",
      "execution_count": null,
      "metadata": {
        "id": "MyZrAIly8fFQ"
      },
      "outputs": [],
      "source": [
        "#@title\n",
        "some_list = [(2,4),(6,7),(8,9),(1,6)]\n",
        "pd.DataFrame(some_list)"
      ]
    },
    {
      "cell_type": "code",
      "execution_count": null,
      "metadata": {
        "id": "sYG7eRxn8oqt"
      },
      "outputs": [],
      "source": [
        "#@title\n",
        "[pythagoras(stuff[0],stuff[1]) for stuff in some_list]"
      ]
    },
    {
      "cell_type": "markdown",
      "metadata": {
        "id": "ILnKSk0aAci6"
      },
      "source": [
        "**Best practice: ** Adding documentation via\n",
        "* Doc-string (\"\"\")\n",
        "* Try placing the cursor at the function and press `<shift+tab>`"
      ]
    },
    {
      "cell_type": "code",
      "execution_count": null,
      "metadata": {
        "id": "7lN0P7RPAci6"
      },
      "outputs": [],
      "source": [
        "def pythagoras(a, b):\n",
        "    \"\"\"\n",
        "    Computes the length of the hypotenuse of a right triangle\n",
        "\n",
        "    Arguments\n",
        "    a, b: the two lengths of the right triangle\n",
        "    \"\"\"\n",
        "\n",
        "    return sqrt(a**2 + b**2)"
      ]
    },
    {
      "cell_type": "markdown",
      "metadata": {
        "id": "cHgFgoMIgDqw"
      },
      "source": [
        "## Mini-assignment\n",
        "* Construct a function that given two points $(x_1, y_1), (x_2, y_2)$ on a line computes the slope $a$ of the line\n",
        "$$ y = ax + b$$\n",
        "given by\n",
        "$$ a = \\frac{y_2- y_1}{x_2 - x_1}$$"
      ]
    },
    {
      "cell_type": "code",
      "execution_count": null,
      "metadata": {
        "id": "LZI28bDmgLv4"
      },
      "outputs": [],
      "source": []
    },
    {
      "cell_type": "markdown",
      "metadata": {
        "id": "2zKsNBO2Puim"
      },
      "source": [
        "# Flow Control (loops & friends)\n",
        "\n",
        "Python is made for readability and therefore tabs and new lines have syntax meaning\n"
      ]
    },
    {
      "cell_type": "code",
      "execution_count": null,
      "metadata": {
        "id": "OEdVwW4oPmrG"
      },
      "outputs": [],
      "source": [
        "# If/else controls\n",
        "x = 5\n",
        "y = 10\n",
        "\n",
        "if (x==0):\n",
        "  y = 0\n",
        "else:\n",
        "  y = y/x\n",
        "  print(y)"
      ]
    },
    {
      "cell_type": "code",
      "execution_count": null,
      "metadata": {
        "id": "CPnjWDyUQBA2"
      },
      "outputs": [],
      "source": [
        "# For loops\n",
        "for i in range(1,x+1):\n",
        "  print(\"OMG, i just counted to \" + str(i))"
      ]
    },
    {
      "cell_type": "code",
      "execution_count": null,
      "metadata": {
        "id": "fF4dZdA_QwWQ"
      },
      "outputs": [],
      "source": [
        "# While loop\n",
        "x = 5\n",
        "\n",
        "while x > 0:\n",
        "  print(x)\n",
        "  x = x-1"
      ]
    },
    {
      "cell_type": "code",
      "execution_count": null,
      "metadata": {
        "id": "4sLNd02bQ__C"
      },
      "outputs": [],
      "source": [
        "x = 1\n",
        "\n",
        "while True:\n",
        "  print(x)\n",
        "  x = x + 1\n",
        "  if x > 7:\n",
        "    break"
      ]
    },
    {
      "cell_type": "code",
      "execution_count": null,
      "metadata": {
        "id": "SpPi4L4tt_zN"
      },
      "outputs": [],
      "source": [
        "even = [] # empty list\n",
        "for i in range(10):\n",
        "    even.append(i*2)\n",
        "even"
      ]
    },
    {
      "cell_type": "code",
      "execution_count": null,
      "metadata": {
        "id": "iokR-fr0uJ5g"
      },
      "outputs": [],
      "source": [
        "odd = []\n",
        "for i in even:\n",
        "    odd.append(i+1)\n",
        "odd"
      ]
    },
    {
      "cell_type": "markdown",
      "metadata": {
        "id": "2PGf7TO1uix0"
      },
      "source": [
        "### Mini-assignment\n",
        "\n",
        "Write a function `KtoC` that translates Kelvin to Celcius\n",
        "\n",
        "$$ C = K - 273.15 \\quad \\text{with} \\quad C\\geq - 273.15$$\n",
        "\n",
        "The function returns `None` when $C < -273.15$"
      ]
    },
    {
      "cell_type": "code",
      "execution_count": null,
      "metadata": {
        "id": "uKOoIZj4G7Pf"
      },
      "outputs": [],
      "source": []
    },
    {
      "cell_type": "markdown",
      "metadata": {
        "id": "s0LRc_qV_rQB"
      },
      "source": [
        "\n",
        "\n",
        "#Object classes\n"
      ]
    },
    {
      "cell_type": "markdown",
      "metadata": {
        "id": "mO5_ey2l_zyO"
      },
      "source": [
        "## Vector\n",
        "\n",
        "One-dimensional collection of values"
      ]
    },
    {
      "cell_type": "code",
      "execution_count": null,
      "metadata": {
        "id": "6YNedwER_yer"
      },
      "outputs": [],
      "source": [
        "# Numeric\n",
        "v1 = [1,5,11,33] # [] initiate a list\n",
        "v1"
      ]
    },
    {
      "cell_type": "code",
      "execution_count": null,
      "metadata": {
        "id": "MuVsjqw_A5sL"
      },
      "outputs": [],
      "source": [
        "# String\n",
        "v2 = [\"hello\",\"world\"]\n",
        "v2"
      ]
    },
    {
      "cell_type": "code",
      "execution_count": null,
      "metadata": {
        "id": "5r-3iAR3A-DC"
      },
      "outputs": [],
      "source": [
        "# Boolean\n",
        "v3 = [True, True, False, True]\n",
        "v3"
      ]
    },
    {
      "cell_type": "markdown",
      "metadata": {
        "id": "xAG4dKvTIltF"
      },
      "source": [
        "Evaluating elements in vectors"
      ]
    },
    {
      "cell_type": "code",
      "execution_count": null,
      "metadata": {
        "id": "1oeaDAHLIpsx"
      },
      "outputs": [],
      "source": [
        "v1[0]"
      ]
    },
    {
      "cell_type": "code",
      "execution_count": null,
      "metadata": {
        "id": "3QOAjR8CI4IN"
      },
      "outputs": [],
      "source": [
        "v1[1:3]"
      ]
    },
    {
      "cell_type": "markdown",
      "metadata": {
        "id": "PtDQGTsB2kG2"
      },
      "source": [
        "Manipulatingg vector elements"
      ]
    },
    {
      "cell_type": "code",
      "execution_count": null,
      "metadata": {
        "id": "Oe_dkwp_2kRx"
      },
      "outputs": [],
      "source": [
        "v1[2] = 1337\n",
        "v1"
      ]
    },
    {
      "cell_type": "markdown",
      "metadata": {
        "id": "odc1xHxmBWsA"
      },
      "source": [
        "Combining different types of elements you obtain a list of lists (later) with all elements in their original format"
      ]
    },
    {
      "cell_type": "code",
      "execution_count": null,
      "metadata": {
        "id": "fQZ7HVJDBH6y"
      },
      "outputs": [],
      "source": [
        "v5 =[v1, v2, v3]\n",
        "v5\n",
        "# Integers (numbers) are still numbers, not strings (text). Easy to see because they don't have ' '"
      ]
    },
    {
      "cell_type": "markdown",
      "metadata": {
        "id": "eY19eb0hIeqo"
      },
      "source": [
        "Adding vectors will append them (not sum them)"
      ]
    },
    {
      "cell_type": "code",
      "execution_count": null,
      "metadata": {
        "id": "U5ozc0Q8BR4L"
      },
      "outputs": [],
      "source": [
        "v1 + v3"
      ]
    },
    {
      "cell_type": "code",
      "execution_count": null,
      "metadata": {
        "id": "LTbWQMQyCKmT"
      },
      "outputs": [],
      "source": [
        "# Same for multiplication\n",
        "v1 * 2"
      ]
    },
    {
      "cell_type": "markdown",
      "metadata": {
        "id": "4nwBrA3mB3kM"
      },
      "source": [
        "**Element-wise operations:** To do numerical operations on vectors\n",
        "numpy.arrays. NumPy is a library, adding support for large, multi-dimensional arrays and matrices, along with a large collection of high-level mathematical functions to operate on these arrays. Here, you can already see that Python is a CS language."
      ]
    },
    {
      "cell_type": "code",
      "execution_count": null,
      "metadata": {
        "id": "jXCR4ygoKe7S"
      },
      "outputs": [],
      "source": [
        "v1_array = np.array(v1)\n",
        "v2_array = np.array(v2)\n",
        "v3_array = np.array(v3)"
      ]
    },
    {
      "cell_type": "code",
      "execution_count": null,
      "metadata": {
        "id": "Ttaz6q4VKzNX"
      },
      "outputs": [],
      "source": [
        "v1_array"
      ]
    },
    {
      "cell_type": "code",
      "execution_count": null,
      "metadata": {
        "id": "6IyUAEunLASy"
      },
      "outputs": [],
      "source": [
        "v1_array + 5"
      ]
    },
    {
      "cell_type": "code",
      "execution_count": null,
      "metadata": {
        "id": "15du6wGyB0qj"
      },
      "outputs": [],
      "source": [
        "v1_array + v3_array"
      ]
    },
    {
      "cell_type": "code",
      "execution_count": null,
      "metadata": {
        "id": "h9EGsZTRDA23"
      },
      "outputs": [],
      "source": [
        "# Arrays of different size\n",
        "v1_array + np.array([1,7])"
      ]
    },
    {
      "cell_type": "code",
      "execution_count": null,
      "metadata": {
        "id": "zqSYtKjtLmEj"
      },
      "outputs": [],
      "source": [
        "# non-numerical arrays\n",
        "v1_array + v2_array"
      ]
    },
    {
      "cell_type": "markdown",
      "metadata": {
        "id": "wyKGw7LphYV2"
      },
      "source": [
        "**Mathematical operations over the vector:** For most maths you need to engage numpy or other modules (Python is not per sea maths language)"
      ]
    },
    {
      "cell_type": "code",
      "execution_count": null,
      "metadata": {
        "id": "pBsnrz9GDXlU"
      },
      "outputs": [],
      "source": [
        "# that works the same way\n",
        "np.sum(v1)"
      ]
    },
    {
      "cell_type": "code",
      "execution_count": null,
      "metadata": {
        "id": "NXuWEoQ7DrFd"
      },
      "outputs": [],
      "source": [
        "np.mean(v1)"
      ]
    },
    {
      "cell_type": "code",
      "execution_count": null,
      "metadata": {
        "id": "sjAX77_4KfAT"
      },
      "outputs": [],
      "source": [
        "# Standard deviation for population - DeltaDegreesOfFreedom = 0 by default\n",
        "np.std(v1, ddof=0)"
      ]
    },
    {
      "cell_type": "code",
      "execution_count": null,
      "metadata": {
        "id": "kDOkhq4cDvVe"
      },
      "outputs": [],
      "source": [
        "np.std(v1, ddof=1)"
      ]
    },
    {
      "cell_type": "code",
      "execution_count": null,
      "metadata": {
        "id": "gGf4jB8MKbgA"
      },
      "outputs": [],
      "source": [
        "np.corrcoef(v1,v1)"
      ]
    },
    {
      "cell_type": "markdown",
      "metadata": {
        "id": "wFqKVINTL1RN"
      },
      "source": [
        "Also consider this cheat sheet\n",
        "\n",
        "https://s3.amazonaws.com/assets.datacamp.com/blog_assets/Numpy_Python_Cheat_Sheet.pdf"
      ]
    },
    {
      "cell_type": "markdown",
      "metadata": {
        "id": "juKqaTiaivBS"
      },
      "source": [
        "## Lists\n",
        "* An indexable collection of variables (objects)\n",
        "* C-style or 0-indexed"
      ]
    },
    {
      "cell_type": "code",
      "execution_count": null,
      "metadata": {
        "id": "p6QpJdRro3Y1"
      },
      "outputs": [],
      "source": [
        "l = ['Caroline', 1.0, pythagoras]\n",
        "type(l)"
      ]
    },
    {
      "cell_type": "code",
      "execution_count": null,
      "metadata": {
        "id": "fVvCpMc5o8GY"
      },
      "outputs": [],
      "source": [
        "l"
      ]
    },
    {
      "cell_type": "code",
      "execution_count": null,
      "metadata": {
        "id": "_iVoeTMSpI1p"
      },
      "outputs": [],
      "source": [
        "l[0]"
      ]
    },
    {
      "cell_type": "code",
      "execution_count": null,
      "metadata": {
        "id": "8XwMxiK5pBPx"
      },
      "outputs": [],
      "source": [
        "type(l[0])"
      ]
    },
    {
      "cell_type": "markdown",
      "metadata": {
        "id": "U-b0NEatpUDX"
      },
      "source": [
        "Common methods for lists"
      ]
    },
    {
      "cell_type": "code",
      "execution_count": null,
      "metadata": {
        "id": "qNpFJvtUpWAC"
      },
      "outputs": [],
      "source": [
        "l.append(sqrt(2.0))\n",
        "l"
      ]
    },
    {
      "cell_type": "code",
      "execution_count": null,
      "metadata": {
        "id": "XdlqQeccpZIj"
      },
      "outputs": [],
      "source": [
        "a = l.pop(2)\n",
        "a"
      ]
    },
    {
      "cell_type": "code",
      "execution_count": null,
      "metadata": {
        "id": "xvACg9qX3Pck"
      },
      "outputs": [],
      "source": [
        "l"
      ]
    },
    {
      "cell_type": "code",
      "execution_count": null,
      "metadata": {
        "id": "O3D4DLxMpkT3"
      },
      "outputs": [],
      "source": [
        "l.pop(0)\n",
        "l.append(100)\n",
        "l.sort(reverse=True)"
      ]
    },
    {
      "cell_type": "code",
      "execution_count": null,
      "metadata": {
        "id": "Ls42YiqeppJ9"
      },
      "outputs": [],
      "source": [
        "l"
      ]
    },
    {
      "cell_type": "code",
      "execution_count": null,
      "metadata": {
        "id": "s7bnNoJhp2PO"
      },
      "outputs": [],
      "source": [
        "l[1] = 2\n",
        "l"
      ]
    },
    {
      "cell_type": "code",
      "execution_count": null,
      "metadata": {
        "id": "vocUwCUkp6Qp"
      },
      "outputs": [],
      "source": [
        "l.extend([6.0, 4])\n",
        "l"
      ]
    },
    {
      "cell_type": "markdown",
      "metadata": {
        "id": "1FEwzWyLqU8E"
      },
      "source": [
        "## Tuples\n",
        "* Immutable \"lists\""
      ]
    },
    {
      "cell_type": "code",
      "execution_count": null,
      "metadata": {
        "id": "TpUMKFPtqdFL"
      },
      "outputs": [],
      "source": [
        "t = (1.0, 4.0)\n",
        "t, type(t)"
      ]
    },
    {
      "cell_type": "code",
      "execution_count": null,
      "metadata": {
        "id": "u5NE8IKzqfds"
      },
      "outputs": [],
      "source": [
        "t[1]"
      ]
    },
    {
      "cell_type": "code",
      "execution_count": null,
      "metadata": {
        "id": "04ireNT-qiHN"
      },
      "outputs": [],
      "source": [
        "t[1] = 2"
      ]
    },
    {
      "cell_type": "markdown",
      "metadata": {
        "id": "Mbn7WPtIqlhs"
      },
      "source": [
        "## Dictionaries\n",
        "- Like lists with user-definable indices\n",
        "- Can, like lists and tuples, contain a mix of different types of data.\n",
        "- The indices can *also* be different kinds of data - unlike lists and tuples."
      ]
    },
    {
      "cell_type": "code",
      "execution_count": null,
      "metadata": {
        "id": "o7MP7oRwqwbi"
      },
      "outputs": [],
      "source": [
        "d = {'one': 1, 2: 1 + 1, 3.0: 'three'}\n",
        "d"
      ]
    },
    {
      "cell_type": "markdown",
      "metadata": {
        "id": "_-6xdkewq_3Q"
      },
      "source": [
        "Usefull methods"
      ]
    },
    {
      "cell_type": "code",
      "execution_count": null,
      "metadata": {
        "id": "kLpSqxHUrBZJ"
      },
      "outputs": [],
      "source": [
        "d.keys()"
      ]
    },
    {
      "cell_type": "code",
      "execution_count": null,
      "metadata": {
        "id": "M7igUfJurFxl"
      },
      "outputs": [],
      "source": [
        "d.items()"
      ]
    },
    {
      "cell_type": "code",
      "execution_count": null,
      "metadata": {
        "id": "nEvSUJ0JrTB7"
      },
      "outputs": [],
      "source": [
        "some_value = d.pop(3.0)\n",
        "d"
      ]
    },
    {
      "cell_type": "code",
      "execution_count": null,
      "metadata": {
        "id": "yA_U7JXRrY_q"
      },
      "outputs": [],
      "source": [
        "some_value"
      ]
    },
    {
      "cell_type": "code",
      "execution_count": null,
      "metadata": {
        "id": "xclG5A8krrJR"
      },
      "outputs": [],
      "source": [
        "d['four'] = 4\n",
        "d"
      ]
    },
    {
      "cell_type": "code",
      "execution_count": null,
      "metadata": {
        "id": "m-bPPrbysGvC"
      },
      "outputs": [],
      "source": [
        "d.update({'five': 5.0, 6: 6.0})\n",
        "d"
      ]
    },
    {
      "cell_type": "markdown",
      "metadata": {
        "id": "QoEnu2rcMMSY"
      },
      "source": [
        "## Data Frames\n",
        "\n",
        "In Python Data Frames are managed by Pandas, a very comprehensive library for data manipulation and analysis.\n",
        "\n",
        "We will introduce to it later more in detail, so here only brief:"
      ]
    },
    {
      "cell_type": "code",
      "execution_count": null,
      "metadata": {
        "id": "_FQ-oFLZL7CG"
      },
      "outputs": [],
      "source": [
        "# We construct the DF from a dictionary which is indicated by {'some_key':['some_values']}\n",
        "\n",
        "df1 = pd.DataFrame(\n",
        "    {'ID':range(1,5), # Python counts from 0 and the last value in a range is excluded\n",
        "     'FirstName':[\"Jesper\",\"Jonas\",\"Pernille\",\"Helle\"],\n",
        "     'Female':[False,False,True,True],\n",
        "     'Age':[22,33,44,55]\n",
        "})"
      ]
    },
    {
      "cell_type": "code",
      "execution_count": null,
      "metadata": {
        "id": "qipUW6Q1NVKY"
      },
      "outputs": [],
      "source": [
        "# Python doesn't really do much factors and as you can see pandas understood your input formats\n",
        "df1.info()"
      ]
    },
    {
      "cell_type": "code",
      "execution_count": null,
      "metadata": {
        "id": "SD7HZIQQNkpU"
      },
      "outputs": [],
      "source": [
        "df1.FirstName #dot notation"
      ]
    },
    {
      "cell_type": "code",
      "execution_count": null,
      "metadata": {
        "id": "0Do1Lk-uN2zO"
      },
      "outputs": [],
      "source": [
        "df1['FirstName'] #more traditional subsetting"
      ]
    },
    {
      "cell_type": "code",
      "execution_count": null,
      "metadata": {
        "id": "zLFKVJVsN9bD"
      },
      "outputs": [],
      "source": [
        "df1.loc[:,'FirstName'] #more complex subsetting"
      ]
    },
    {
      "cell_type": "code",
      "execution_count": null,
      "metadata": {
        "id": "9J8NRzRrOBcD"
      },
      "outputs": [],
      "source": [
        "df1.iloc[:,1] #index based"
      ]
    },
    {
      "cell_type": "code",
      "execution_count": null,
      "metadata": {
        "id": "duwAHqnyOHlH"
      },
      "outputs": [],
      "source": [
        "# Rows 1 and 2, columns 3 and 4 - the gender and age of Jesper & Jonas\n",
        "df1.iloc[[0,1],[2,3]]\n"
      ]
    },
    {
      "cell_type": "code",
      "execution_count": null,
      "metadata": {
        "id": "xUHIecqoOjhR"
      },
      "outputs": [],
      "source": [
        "#Same thing\n",
        "df1.loc[[0,1],['Female','Age']]"
      ]
    },
    {
      "cell_type": "code",
      "execution_count": null,
      "metadata": {
        "id": "XDKencHoOy5O"
      },
      "outputs": [],
      "source": [
        "# Rows 1 and 3, all columns\n",
        "\n",
        "df1.iloc[[0,2],:] # don't forget to count index-1 when going from R to python"
      ]
    },
    {
      "cell_type": "code",
      "execution_count": null,
      "metadata": {
        "id": "b8vrtaLOPBuy"
      },
      "outputs": [],
      "source": [
        "#Find the names of everyone over the age of 30 in the data\n",
        "df1[df1.Age > 30]"
      ]
    },
    {
      "cell_type": "code",
      "execution_count": null,
      "metadata": {
        "id": "2ORTGEiMPR-M"
      },
      "outputs": [],
      "source": [
        "# or \"Query style\" (There are always many ways of doing the same thing)\n",
        "df1.query('Age > 30')"
      ]
    }
  ],
  "metadata": {
    "colab": {
      "provenance": []
    },
    "kernelspec": {
      "display_name": "Python 3",
      "name": "python3"
    },
    "language_info": {
      "codemirror_mode": {
        "name": "ipython",
        "version": 3
      },
      "file_extension": ".py",
      "mimetype": "text/x-python",
      "name": "python",
      "nbconvert_exporter": "python",
      "pygments_lexer": "ipython3",
      "version": "3.9.12"
    }
  },
  "nbformat": 4,
  "nbformat_minor": 0
}